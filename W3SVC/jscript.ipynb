{
 "cells": [
  {
   "cell_type": "markdown",
   "metadata": {
    "heading_collapsed": true
   },
   "source": [
    "# Read Internet Log Files \n",
    "\n",
    "* Microsoft Integration Services \n",
    "* Tableau\n",
    "\n",
    "log files from Internet Information Services (IIS) - Two patterns     \n"
   ]
  },
  {
   "cell_type": "markdown",
   "metadata": {
    "hidden": true
   },
   "source": [
    "\n",
    "## Steps\n",
    "\n",
    "1. Turn source ip of the client into Geolocation\n",
    "    * IP geolocation services: \n",
    "        * http://www.ip2location.com/ \n",
    "        * Yahoo geo code (http://developer.yahoo.com/maps/rest/V1/geocode.html) \n",
    "        * newer http://developer.yahoo.com/geo/placefinder/.\n",
    "\n",
    "2. Separate IP requests from robots - identify IP from robots\n",
    "\n",
    "## Notes\n",
    "... \n"
   ]
  },
  {
   "cell_type": "markdown",
   "metadata": {
    "heading_collapsed": true
   },
   "source": [
    "# Graphs: "
   ]
  },
  {
   "cell_type": "markdown",
   "metadata": {
    "hidden": true
   },
   "source": [
    "* File Access: \n",
    "    * most downloaded files: **x** (html, jpg, shtml, gif ...) **y** (K Bytes)\n",
    "    * Number of Users Per Number of Visits **x**(no of visits: 1,2,3...>10) **y**(No of Users)\n",
    "* Geolocation: \n",
    "    * Most Active Countries **x** (US, UK, Qatar ...) **y** (User Sessions)\n",
    "    * Most Active Cities **x** (vienna, palo alto ...) **y** (User Sessions)\n",
    "    * Busiest year... (x request for pages)\n",
    "    * Busiest Quarter ... \n",
    "    * Busiest month \n",
    "    * Activity level by day of the week **x** (Sun, Mond, Tue ...) **y** (user sessions)\n",
    "    * Activity level by hour of the day \n",
    "* Errors: \n",
    "    * Client Errors: Pie (404, 406, 403 ...)\n",
    "    * Page Not Found Pie (/favicon, /pics/banners ...)\n",
    "* Client Information: \n",
    "    * Client OS Pie (OS, Known robots, Macintosh...)\n",
    "    * Browser Summary (MSIE, Netscape...)\n",
    "    * Host report\n",
    "    * Referrer report where our visitors come from (webs...)"
   ]
  },
  {
   "cell_type": "code",
   "execution_count": null,
   "metadata": {
    "hidden": true
   },
   "outputs": [],
   "source": []
  },
  {
   "cell_type": "markdown",
   "metadata": {},
   "source": [
    "# advise: \n"
   ]
  },
  {
   "cell_type": "markdown",
   "metadata": {},
   "source": [
    "* coding in EN \n",
    "* c = customer // s = server"
   ]
  },
  {
   "cell_type": "code",
   "execution_count": 51,
   "metadata": {},
   "outputs": [
    {
     "name": "stdout",
     "output_type": "stream",
     "text": [
      "0-date________2009-10-24\n",
      "1-time________01:40:40\n",
      "2-s-ip________134.36.36.75\n",
      "3-cs-method________HEAD\n",
      "4-cs-uri-stem________/\n",
      "5-cs-uri-query________-\n",
      "6-s-port________80\n",
      "7-cs-username________-\n",
      "8-c-ip________205.178.184.153\n",
      "9-cs(User-Agent)________Mozilla/5.0+(Windows;+U;+Windows+NT+5.1;+en-US;+rv:1.8.1.12)+Gecko/20080201+Firefox/2.0.0.12\n",
      "10-sc-status________200\n",
      "11-sc-substatus________0\n",
      "12-sc-win32-status________0\n",
      "13-time-taken________186\n"
     ]
    }
   ],
   "source": [
    "ap1 = patt1.split()   #14 fields\n",
    "for i in range(len(ap1)):\n",
    "    print(str(i) + '-' + ap1[i] + '________' + dp1[i])"
   ]
  },
  {
   "cell_type": "code",
   "execution_count": 55,
   "metadata": {},
   "outputs": [
    {
     "name": "stdout",
     "output_type": "stream",
     "text": [
      "0-date________2011-05-16\n",
      "1-time________00:00:51\n",
      "2-s-ip________134.36.36.75\n",
      "3-cs-method________GET\n",
      "4-cs-uri-stem________/Darwin/ImageCache/cache_VBIqRju_791.jpeg\n",
      "5-cs-uri-query________-\n",
      "6-s-port________80\n",
      "7-cs-username________-\n",
      "8-c-ip________95.108.158.233\n",
      "9-cs(User-Agent)________Mozilla/5.0+(compatible;+YandexImages/3.0;++http://yandex.com/bots)\n",
      "10-cs(Cookie)________-\n",
      "11-cs(Referer)________-\n",
      "12-sc-status________304\n",
      "13-sc-substatus________0\n",
      "14-sc-win32-status________0\n",
      "15-sc-bytes________210\n",
      "16-cs-bytes________335\n",
      "17-time-taken________64\n"
     ]
    }
   ],
   "source": [
    "ap2 = patt2.split()   #18 fields\n",
    "for i in range(len(ap2)):\n",
    "    print(str(i) + '-' + ap2[i] + '________' + dp2[i])"
   ]
  },
  {
   "cell_type": "markdown",
   "metadata": {},
   "source": [
    "# Coding"
   ]
  },
  {
   "cell_type": "code",
   "execution_count": 2,
   "metadata": {},
   "outputs": [],
   "source": [
    "# import xlwt\n",
    "# from pandas import DataFrame\n",
    "import pandas as pd\n",
    "import os\n",
    "import requests\n"
   ]
  },
  {
   "cell_type": "code",
   "execution_count": 3,
   "metadata": {},
   "outputs": [],
   "source": [
    "path = '../../_data_tmp/W3SVC1/'\n",
    "files = os.listdir(path)"
   ]
  },
  {
   "cell_type": "code",
   "execution_count": 4,
   "metadata": {},
   "outputs": [
    {
     "name": "stdout",
     "output_type": "stream",
     "text": [
      "95\n",
      "pattern1 - newfile.txt\n",
      "\n",
      "\n",
      "pattern2 - u_ex110516.log\n"
     ]
    }
   ],
   "source": [
    "print(len(files))\n",
    "# files\n",
    "print(\"pattern1 - \" + str(files[0]) )\n",
    "patt1 = 'date time s-ip cs-method cs-uri-stem cs-uri-query s-port cs-username c-ip cs(User-Agent) sc-status sc-substatus sc-win32-status time-taken'\n",
    "print(\"\\n\\npattern2 - \" + str(files[-1]) )\n",
    "patt2 = 'date time s-ip cs-method cs-uri-stem cs-uri-query s-port cs-username c-ip cs(User-Agent) cs(Cookie) cs(Referer) sc-status sc-substatus sc-win32-status sc-bytes cs-bytes time-taken' "
   ]
  },
  {
   "cell_type": "code",
   "execution_count": 9,
   "metadata": {},
   "outputs": [
    {
     "data": {
      "text/plain": [
       "'u_ex091024.log'"
      ]
     },
     "execution_count": 9,
     "metadata": {},
     "output_type": "execute_result"
    }
   ],
   "source": [
    "files[2]"
   ]
  },
  {
   "cell_type": "markdown",
   "metadata": {
    "heading_collapsed": true
   },
   "source": [
    "# old "
   ]
  },
  {
   "cell_type": "code",
   "execution_count": 67,
   "metadata": {
    "hidden": true
   },
   "outputs": [
    {
     "name": "stdout",
     "output_type": "stream",
     "text": [
      "new file created\n"
     ]
    }
   ],
   "source": [
    "bad_words = ['#Software','#Version','#Date','#Fields']\n",
    "data_real = []\n",
    "data = []\n",
    "\n",
    "with open(path + files[0]) as oldfile, open(path + 'newfile.txt', 'w') as newfile:\n",
    "    for line in oldfile:\n",
    "        if not any(bad_word in line for bad_word in bad_words):\n",
    "            newfile.write(line)\n",
    "print(\"new file created\")\n"
   ]
  },
  {
   "cell_type": "code",
   "execution_count": 68,
   "metadata": {
    "hidden": true
   },
   "outputs": [],
   "source": [
    "f = open(path + \"newfile.txt\",\"r\") \n",
    "for line in f: \n",
    "    data_real.append(line)\n",
    "    cadena = \" \".join(data_real)\n",
    "    cadena1 = cadena.split()\n",
    "    data.append(cadena1)\n"
   ]
  },
  {
   "cell_type": "code",
   "execution_count": 71,
   "metadata": {
    "hidden": true
   },
   "outputs": [],
   "source": [
    "# data"
   ]
  },
  {
   "cell_type": "code",
   "execution_count": 21,
   "metadata": {
    "hidden": true
   },
   "outputs": [
    {
     "name": "stdout",
     "output_type": "stream",
     "text": [
      "The count is: 0\n",
      "The count is: 1\n",
      "The count is: 2\n",
      "The count is: 3\n",
      "The count is: 4\n",
      "The count is: 5\n",
      "The count is: 6\n",
      "The count is: 7\n",
      "The count is: 8\n",
      "The count is: 9\n",
      "The count is: 10\n"
     ]
    }
   ],
   "source": [
    "a = range(len(cadena1))\n",
    "b = a[0:len(cadena1):14]\n",
    "list_temp = []\n",
    "count = 0\n",
    "while (count < len(b)):\n",
    "    print ('The count is:', count)\n",
    "    date = [cadena1[b[count]]]\n",
    "    count = count + 1\n",
    "\n",
    "df = pd.DataFrame({'Datas': date })\n",
    "##df = DataFrame({'Date': date, 'Time': time, 's_ip': s_ip, 'cs_method': cs_method,'cs_uri_stem': cs_uri_stem, 'cs_uri_query': #cs_uri_query, 's_port': s_port ,'cs_username': cs_username, 'c_ip': c_ip,'cs_User_Agent': cs_User_Agent,'sc_status': #sc_status, 'sc_substatus': sc_substatus, 'sc_win32': sc_win32, 'time_taken': time_taken})     \n",
    "df.to_excel(path + 'test.xlsx', sheet_name='sheet1', index=False)\n"
   ]
  },
  {
   "cell_type": "markdown",
   "metadata": {},
   "source": [
    "# new"
   ]
  },
  {
   "cell_type": "code",
   "execution_count": 10,
   "metadata": {},
   "outputs": [
    {
     "data": {
      "text/plain": [
       "11"
      ]
     },
     "execution_count": 10,
     "metadata": {},
     "output_type": "execute_result"
    }
   ],
   "source": [
    "bad_words = ['#Software','#Version','#Date','#Fields']\n",
    "data_real = []\n",
    "data = []\n",
    "\n",
    "# for file in files: \n",
    "file = files[2]\n",
    "with open(path + file) as oldfile, open(path + 'newfile.txt', 'w') as newfile:\n",
    "    for line in oldfile:\n",
    "        if not any(bad_word in line for bad_word in bad_words):\n",
    "            #newfile.write(line)  \n",
    "            data_real.append(line)\n",
    "            row = \" \".join(data_real)\n",
    "            row = row.split()\n",
    "            data.append(row)\n",
    "len(data)"
   ]
  },
  {
   "cell_type": "code",
   "execution_count": 12,
   "metadata": {},
   "outputs": [],
   "source": [
    "a_date = []\n",
    "a_cip = []\n",
    "for i in range(len(data)):\n",
    "    a_date.append(data[i][0])\n",
    "    a_cip.append(data[i][8])\n",
    "    \n",
    "df = pd.DataFrame({'Dates': a_date })\n",
    "##df = DataFrame({'Date': date, 'Time': time, 's_ip': s_ip, 'cs_method': cs_method,'cs_uri_stem': cs_uri_stem, 'cs_uri_query': #cs_uri_query, 's_port': s_port ,'cs_username': cs_username, 'c_ip': c_ip,'cs_User_Agent': cs_User_Agent,'sc_status': #sc_status, 'sc_substatus': sc_substatus, 'sc_win32': sc_win32, 'time_taken': time_taken})     \n",
    "df.to_excel(path + 'test.xlsx', sheet_name='sheet1', index=False)\n"
   ]
  },
  {
   "cell_type": "code",
   "execution_count": 25,
   "metadata": {},
   "outputs": [],
   "source": [
    "\n",
    "# geolocalizacion\n",
    "# 'pc': pc, 'city' : city, 'state_area' : area, 'country': country\n",
    "\n",
    "pc = []; city = []; area = []; country = []\n",
    "geo = []\n",
    "for i in a_cip:\n",
    "    ip = i\n",
    "    url = 'http://freegeoip.net/json/'+ip\n",
    "    r = requests.get(url)\n",
    "    js = r.json()   \n",
    "    \n",
    "    city.append(js[\"city\"])\n",
    "    pc.append(js[\"zip_code\"])\n",
    "    area.append(js[\"region_name\"])\n",
    "    country.append(js[\"country_name\"])\n",
    "    \n",
    "    geo.append(js)"
   ]
  },
  {
   "cell_type": "code",
   "execution_count": 30,
   "metadata": {},
   "outputs": [
    {
     "data": {
      "text/plain": [
       "['32258',\n",
       " '32258',\n",
       " '32258',\n",
       " '32258',\n",
       " '32258',\n",
       " '32258',\n",
       " '32258',\n",
       " '32258',\n",
       " '32258',\n",
       " '32258',\n",
       " '32258']"
      ]
     },
     "execution_count": 30,
     "metadata": {},
     "output_type": "execute_result"
    }
   ],
   "source": [
    "geo\n",
    "pc"
   ]
  },
  {
   "cell_type": "code",
   "execution_count": null,
   "metadata": {},
   "outputs": [],
   "source": []
  },
  {
   "cell_type": "code",
   "execution_count": null,
   "metadata": {},
   "outputs": [],
   "source": []
  },
  {
   "cell_type": "code",
   "execution_count": null,
   "metadata": {},
   "outputs": [],
   "source": []
  },
  {
   "cell_type": "markdown",
   "metadata": {},
   "source": [
    "# ."
   ]
  },
  {
   "cell_type": "code",
   "execution_count": null,
   "metadata": {},
   "outputs": [],
   "source": []
  }
 ],
 "metadata": {
  "kernelspec": {
   "display_name": "Python 3",
   "language": "python",
   "name": "python3"
  },
  "language_info": {
   "codemirror_mode": {
    "name": "ipython",
    "version": 3
   },
   "file_extension": ".py",
   "mimetype": "text/x-python",
   "name": "python",
   "nbconvert_exporter": "python",
   "pygments_lexer": "ipython3",
   "version": "3.5.2"
  }
 },
 "nbformat": 4,
 "nbformat_minor": 2
}
