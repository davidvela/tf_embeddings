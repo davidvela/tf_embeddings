{
 "cells": [
  {
   "cell_type": "markdown",
   "metadata": {
    "heading_collapsed": true
   },
   "source": [
    "# Read Internet Log Files \n",
    "\n",
    "* Microsoft Integration Services \n",
    "* Tableau\n",
    "\n",
    "log files from Internet Information Services (IIS) - Two patterns     \n"
   ]
  },
  {
   "cell_type": "markdown",
   "metadata": {
    "hidden": true
   },
   "source": [
    "\n",
    "## Steps\n",
    "\n",
    "1. Turn source ip of the client into Geolocation\n",
    "    * IP geolocation services: \n",
    "        * http://www.ip2location.com/ \n",
    "        * Yahoo geo code (http://developer.yahoo.com/maps/rest/V1/geocode.html) \n",
    "        * newer http://developer.yahoo.com/geo/placefinder/.\n",
    "\n",
    "2. Separate IP requests from robots - identify IP from robots\n",
    "\n",
    "## Notes\n",
    "... \n"
   ]
  },
  {
   "cell_type": "markdown",
   "metadata": {
    "heading_collapsed": true
   },
   "source": [
    "# Graphs: "
   ]
  },
  {
   "cell_type": "markdown",
   "metadata": {
    "hidden": true
   },
   "source": [
    "* File Access: \n",
    "    * most downloaded files: **x** (html, jpg, shtml, gif ...) **y** (K Bytes)\n",
    "    * Number of Users Per Number of Visits **x**(no of visits: 1,2,3...>10) **y**(No of Users)\n",
    "* Geolocation: \n",
    "    * Most Active Countries **x** (US, UK, Qatar ...) **y** (User Sessions)\n",
    "    * Most Active Cities **x** (vienna, palo alto ...) **y** (User Sessions)\n",
    "    * Busiest year... (x request for pages)\n",
    "    * Busiest Quarter ... \n",
    "    * Busiest month \n",
    "    * Activity level by day of the week **x** (Sun, Mond, Tue ...) **y** (user sessions)\n",
    "    * Activity level by hour of the day \n",
    "* Errors: \n",
    "    * Client Errors: Pie (404, 406, 403 ...)\n",
    "    * Page Not Found Pie (/favicon, /pics/banners ...)\n",
    "* Client Information: \n",
    "    * Client OS Pie (OS, Known robots, Macintosh...)\n",
    "    * Browser Summary (MSIE, Netscape...)\n",
    "    * Host report\n",
    "    * Referrer report where our visitors come from (webs...)"
   ]
  },
  {
   "cell_type": "code",
   "execution_count": null,
   "metadata": {
    "hidden": true
   },
   "outputs": [],
   "source": []
  },
  {
   "cell_type": "markdown",
   "metadata": {},
   "source": [
    "# advise: \n"
   ]
  },
  {
   "cell_type": "markdown",
   "metadata": {},
   "source": [
    "* coding in EN \n",
    "* c = customer // s = server"
   ]
  },
  {
   "cell_type": "code",
   "execution_count": 51,
   "metadata": {},
   "outputs": [
    {
     "name": "stdout",
     "output_type": "stream",
     "text": [
      "0-date________2009-10-24\n",
      "1-time________01:40:40\n",
      "2-s-ip________134.36.36.75\n",
      "3-cs-method________HEAD\n",
      "4-cs-uri-stem________/\n",
      "5-cs-uri-query________-\n",
      "6-s-port________80\n",
      "7-cs-username________-\n",
      "8-c-ip________205.178.184.153\n",
      "9-cs(User-Agent)________Mozilla/5.0+(Windows;+U;+Windows+NT+5.1;+en-US;+rv:1.8.1.12)+Gecko/20080201+Firefox/2.0.0.12\n",
      "10-sc-status________200\n",
      "11-sc-substatus________0\n",
      "12-sc-win32-status________0\n",
      "13-time-taken________186\n"
     ]
    }
   ],
   "source": [
    "ap1 = patt1.split()   #14 fields\n",
    "for i in range(len(ap1)):\n",
    "    print(str(i) + '-' + ap1[i] + '________' + dp1[i])"
   ]
  },
  {
   "cell_type": "code",
   "execution_count": 55,
   "metadata": {},
   "outputs": [
    {
     "name": "stdout",
     "output_type": "stream",
     "text": [
      "0-date________2011-05-16\n",
      "1-time________00:00:51\n",
      "2-s-ip________134.36.36.75\n",
      "3-cs-method________GET\n",
      "4-cs-uri-stem________/Darwin/ImageCache/cache_VBIqRju_791.jpeg\n",
      "5-cs-uri-query________-\n",
      "6-s-port________80\n",
      "7-cs-username________-\n",
      "8-c-ip________95.108.158.233\n",
      "9-cs(User-Agent)________Mozilla/5.0+(compatible;+YandexImages/3.0;++http://yandex.com/bots)\n",
      "10-cs(Cookie)________-\n",
      "11-cs(Referer)________-\n",
      "12-sc-status________304\n",
      "13-sc-substatus________0\n",
      "14-sc-win32-status________0\n",
      "15-sc-bytes________210\n",
      "16-cs-bytes________335\n",
      "17-time-taken________64\n"
     ]
    }
   ],
   "source": [
    "ap2 = patt2.split()   #18 fields\n",
    "for i in range(len(ap2)):\n",
    "    print(str(i) + '-' + ap2[i] + '________' + dp2[i])"
   ]
  },
  {
   "cell_type": "markdown",
   "metadata": {},
   "source": [
    "# Coding"
   ]
  },
  {
   "cell_type": "code",
   "execution_count": 2,
   "metadata": {},
   "outputs": [],
   "source": [
    "# import xlwt\n",
    "# from pandas import DataFrame\n",
    "import pandas as pd\n",
    "import os\n",
    "import requests\n"
   ]
  },
  {
   "cell_type": "code",
   "execution_count": 3,
   "metadata": {},
   "outputs": [],
   "source": [
    "path = '../../_data_tmp/W3SVC1/'\n",
    "files = os.listdir(path)"
   ]
  },
  {
   "cell_type": "code",
   "execution_count": 4,
   "metadata": {},
   "outputs": [
    {
     "name": "stdout",
     "output_type": "stream",
     "text": [
      "95\n",
      "pattern1 - newfile.txt\n",
      "\n",
      "\n",
      "pattern2 - u_ex110516.log\n"
     ]
    }
   ],
   "source": [
    "print(len(files))\n",
    "# files\n",
    "print(\"pattern1 - \" + str(files[0]) )\n",
    "patt1 = 'date time s-ip cs-method cs-uri-stem cs-uri-query s-port cs-username c-ip cs(User-Agent) sc-status sc-substatus sc-win32-status time-taken'\n",
    "print(\"\\n\\npattern2 - \" + str(files[-1]) )\n",
    "patt2 = 'date time s-ip cs-method cs-uri-stem cs-uri-query s-port cs-username c-ip cs(User-Agent) cs(Cookie) cs(Referer) sc-status sc-substatus sc-win32-status sc-bytes cs-bytes time-taken' "
   ]
  },
  {
   "cell_type": "code",
   "execution_count": 9,
   "metadata": {},
   "outputs": [
    {
     "data": {
      "text/plain": [
       "'u_ex091024.log'"
      ]
     },
     "execution_count": 9,
     "metadata": {},
     "output_type": "execute_result"
    }
   ],
   "source": [
    "files[2]"
   ]
  },
  {
   "cell_type": "markdown",
   "metadata": {
    "heading_collapsed": true
   },
   "source": [
    "# old "
   ]
  },
  {
   "cell_type": "code",
   "execution_count": 67,
   "metadata": {
    "hidden": true
   },
   "outputs": [
    {
     "name": "stdout",
     "output_type": "stream",
     "text": [
      "new file created\n"
     ]
    }
   ],
   "source": [
    "bad_words = ['#Software','#Version','#Date','#Fields']\n",
    "data_real = []\n",
    "data = []\n",
    "\n",
    "with open(path + files[0]) as oldfile, open(path + 'newfile.txt', 'w') as newfile:\n",
    "    for line in oldfile:\n",
    "        if not any(bad_word in line for bad_word in bad_words):\n",
    "            newfile.write(line)\n",
    "print(\"new file created\")\n"
   ]
  },
  {
   "cell_type": "code",
   "execution_count": 68,
   "metadata": {
    "hidden": true
   },
   "outputs": [],
   "source": [
    "f = open(path + \"newfile.txt\",\"r\") \n",
    "for line in f: \n",
    "    data_real.append(line)\n",
    "    cadena = \" \".join(data_real)\n",
    "    cadena1 = cadena.split()\n",
    "    data.append(cadena1)\n"
   ]
  },
  {
   "cell_type": "code",
   "execution_count": 71,
   "metadata": {
    "hidden": true
   },
   "outputs": [],
   "source": [
    "# data"
   ]
  },
  {
   "cell_type": "code",
   "execution_count": 21,
   "metadata": {
    "hidden": true
   },
   "outputs": [
    {
     "name": "stdout",
     "output_type": "stream",
     "text": [
      "The count is: 0\n",
      "The count is: 1\n",
      "The count is: 2\n",
      "The count is: 3\n",
      "The count is: 4\n",
      "The count is: 5\n",
      "The count is: 6\n",
      "The count is: 7\n",
      "The count is: 8\n",
      "The count is: 9\n",
      "The count is: 10\n"
     ]
    }
   ],
   "source": [
    "a = range(len(cadena1))\n",
    "b = a[0:len(cadena1):14]\n",
    "list_temp = []\n",
    "count = 0\n",
    "while (count < len(b)):\n",
    "    print ('The count is:', count)\n",
    "    date = [cadena1[b[count]]]\n",
    "    count = count + 1\n",
    "\n",
    "df = pd.DataFrame({'Datas': date })\n",
    "##df = DataFrame({'Date': date, 'Time': time, 's_ip': s_ip, 'cs_method': cs_method,'cs_uri_stem': cs_uri_stem, 'cs_uri_query': #cs_uri_query, 's_port': s_port ,'cs_username': cs_username, 'c_ip': c_ip,'cs_User_Agent': cs_User_Agent,'sc_status': #sc_status, 'sc_substatus': sc_substatus, 'sc_win32': sc_win32, 'time_taken': time_taken})     \n",
    "df.to_excel(path + 'test.xlsx', sheet_name='sheet1', index=False)\n"
   ]
  },
  {
   "cell_type": "markdown",
   "metadata": {},
   "source": [
    "# new"
   ]
  },
  {
   "cell_type": "code",
   "execution_count": 65,
   "metadata": {},
   "outputs": [
    {
     "data": {
      "text/plain": [
       "11"
      ]
     },
     "execution_count": 65,
     "metadata": {},
     "output_type": "execute_result"
    }
   ],
   "source": [
    "# read files\n",
    "bad_words = ['#Software','#Version','#Date','#Fields']\n",
    "data_real = []\n",
    "data = []\n",
    "\n",
    "# for file in files: \n",
    "file = files[2]\n",
    "with open(path + file) as oldfile: #, open(path + 'newfile.txt', 'w') as newfile:\n",
    "    for line in oldfile:\n",
    "        if not any(bad_word in line for bad_word in bad_words):\n",
    "            #newfile.write(line);  data_real.append(line); row = \" \".join(data_real)\n",
    "            row = line.split()\n",
    "            data.append(row)\n",
    "len(data)"
   ]
  },
  {
   "cell_type": "code",
   "execution_count": 107,
   "metadata": {},
   "outputs": [
    {
     "name": "stdout",
     "output_type": "stream",
     "text": [
      "data created\n"
     ]
    }
   ],
   "source": [
    "# create frames\n",
    "a_date = []\n",
    "a_cip = []\n",
    "a_csus = []\n",
    "a_robots = []\n",
    "for i in range(len(data)):\n",
    "    a_date.append(data[i][0])\n",
    "    a_cip.append(data[i][8])\n",
    "    a_csus.append(data[i][4])\n",
    "    \n",
    "    if data[i][4] == '/robots.txt':\n",
    "        a_robots.append(data[i][8])\n",
    "    \n",
    "df = pd.DataFrame({'Dates': a_date , 'c_ip' : a_cip, 'steam': a_csus})\n",
    "##df = DataFrame({'Date': date, 'Time': time, 's_ip': s_ip, 'cs_method': cs_method,'cs_uri_stem': cs_uri_stem, 'cs_uri_query': #cs_uri_query, 's_port': s_port ,'cs_username': cs_username, 'c_ip': c_ip,'cs_User_Agent': cs_User_Agent,'sc_status': #sc_status, 'sc_substatus': sc_substatus, 'sc_win32': sc_win32, 'time_taken': time_taken})     \n",
    "df.to_excel(path + 'test.xlsx', sheet_name='sheet1', index=False)\n",
    "\n",
    "print(\"data created\")"
   ]
  },
  {
   "cell_type": "code",
   "execution_count": 25,
   "metadata": {},
   "outputs": [],
   "source": [
    "# geolocalizacion\n",
    "# 'pc': pc, 'city' : city, 'state_area' : area, 'country': country\n",
    "pc = []; city = []; area = []; country = []\n",
    "geo = []\n",
    "for i in a_cip:\n",
    "    ip = i\n",
    "    url = 'http://freegeoip.net/json/'+ip\n",
    "    r = requests.get(url)\n",
    "    js = r.json()   \n",
    "    \n",
    "    city.append(js[\"city\"])\n",
    "    pc.append(js[\"zip_code\"])\n",
    "    area.append(js[\"region_name\"])\n",
    "    country.append(js[\"country_name\"])\n",
    "    \n",
    "    geo.append(js)"
   ]
  },
  {
   "cell_type": "code",
   "execution_count": 85,
   "metadata": {},
   "outputs": [
    {
     "data": {
      "text/html": [
       "<div>\n",
       "<style>\n",
       "    .dataframe thead tr:only-child th {\n",
       "        text-align: right;\n",
       "    }\n",
       "\n",
       "    .dataframe thead th {\n",
       "        text-align: left;\n",
       "    }\n",
       "\n",
       "    .dataframe tbody tr th {\n",
       "        vertical-align: top;\n",
       "    }\n",
       "</style>\n",
       "<table border=\"1\" class=\"dataframe\">\n",
       "  <thead>\n",
       "    <tr style=\"text-align: right;\">\n",
       "      <th></th>\n",
       "      <th>Dates</th>\n",
       "      <th>c_ip</th>\n",
       "      <th>steam</th>\n",
       "    </tr>\n",
       "  </thead>\n",
       "  <tbody>\n",
       "    <tr>\n",
       "      <th>0</th>\n",
       "      <td>2009-10-24</td>\n",
       "      <td>205.178.184.153</td>\n",
       "      <td>/</td>\n",
       "    </tr>\n",
       "    <tr>\n",
       "      <th>1</th>\n",
       "      <td>2009-10-24</td>\n",
       "      <td>205.178.184.153</td>\n",
       "      <td>/</td>\n",
       "    </tr>\n",
       "    <tr>\n",
       "      <th>2</th>\n",
       "      <td>2009-10-24</td>\n",
       "      <td>205.178.184.153</td>\n",
       "      <td>/Darwin/Home.aspx</td>\n",
       "    </tr>\n",
       "    <tr>\n",
       "      <th>3</th>\n",
       "      <td>2009-10-24</td>\n",
       "      <td>205.178.184.153</td>\n",
       "      <td>/</td>\n",
       "    </tr>\n",
       "    <tr>\n",
       "      <th>4</th>\n",
       "      <td>2009-10-24</td>\n",
       "      <td>205.178.184.153</td>\n",
       "      <td>/robots.txt</td>\n",
       "    </tr>\n",
       "    <tr>\n",
       "      <th>5</th>\n",
       "      <td>2009-10-24</td>\n",
       "      <td>91.212.127.100</td>\n",
       "      <td>/abc.php</td>\n",
       "    </tr>\n",
       "    <tr>\n",
       "      <th>6</th>\n",
       "      <td>2009-10-24</td>\n",
       "      <td>204.244.11.121</td>\n",
       "      <td>/phpMyAdmin/scripts/setup.php</td>\n",
       "    </tr>\n",
       "    <tr>\n",
       "      <th>7</th>\n",
       "      <td>2009-10-24</td>\n",
       "      <td>204.244.11.121</td>\n",
       "      <td>/phpmyadmin/scripts/setup.php</td>\n",
       "    </tr>\n",
       "    <tr>\n",
       "      <th>8</th>\n",
       "      <td>2009-10-24</td>\n",
       "      <td>204.244.11.121</td>\n",
       "      <td>/pma/scripts/setup.php</td>\n",
       "    </tr>\n",
       "    <tr>\n",
       "      <th>9</th>\n",
       "      <td>2009-10-24</td>\n",
       "      <td>204.244.11.121</td>\n",
       "      <td>/mysql/scripts/setup.php</td>\n",
       "    </tr>\n",
       "    <tr>\n",
       "      <th>10</th>\n",
       "      <td>2009-10-24</td>\n",
       "      <td>204.244.11.121</td>\n",
       "      <td>/admin/scripts/setup.php</td>\n",
       "    </tr>\n",
       "  </tbody>\n",
       "</table>\n",
       "</div>"
      ],
      "text/plain": [
       "         Dates             c_ip                          steam\n",
       "0   2009-10-24  205.178.184.153                              /\n",
       "1   2009-10-24  205.178.184.153                              /\n",
       "2   2009-10-24  205.178.184.153              /Darwin/Home.aspx\n",
       "3   2009-10-24  205.178.184.153                              /\n",
       "4   2009-10-24  205.178.184.153                    /robots.txt\n",
       "5   2009-10-24   91.212.127.100                       /abc.php\n",
       "6   2009-10-24   204.244.11.121  /phpMyAdmin/scripts/setup.php\n",
       "7   2009-10-24   204.244.11.121  /phpmyadmin/scripts/setup.php\n",
       "8   2009-10-24   204.244.11.121         /pma/scripts/setup.php\n",
       "9   2009-10-24   204.244.11.121       /mysql/scripts/setup.php\n",
       "10  2009-10-24   204.244.11.121       /admin/scripts/setup.php"
      ]
     },
     "execution_count": 85,
     "metadata": {},
     "output_type": "execute_result"
    }
   ],
   "source": [
    "# geo\n",
    "# pc\n",
    "# a_robots\n",
    "# a_csus\n",
    "df"
   ]
  },
  {
   "cell_type": "code",
   "execution_count": 111,
   "metadata": {},
   "outputs": [],
   "source": [
    "robots = df[ df[\"steam\"] == '/robots.txt' ]"
   ]
  },
  {
   "cell_type": "code",
   "execution_count": 112,
   "metadata": {},
   "outputs": [
    {
     "data": {
      "text/html": [
       "<div>\n",
       "<style>\n",
       "    .dataframe thead tr:only-child th {\n",
       "        text-align: right;\n",
       "    }\n",
       "\n",
       "    .dataframe thead th {\n",
       "        text-align: left;\n",
       "    }\n",
       "\n",
       "    .dataframe tbody tr th {\n",
       "        vertical-align: top;\n",
       "    }\n",
       "</style>\n",
       "<table border=\"1\" class=\"dataframe\">\n",
       "  <thead>\n",
       "    <tr style=\"text-align: right;\">\n",
       "      <th></th>\n",
       "      <th>Dates</th>\n",
       "      <th>c_ip</th>\n",
       "      <th>steam</th>\n",
       "      <th>crowler</th>\n",
       "    </tr>\n",
       "  </thead>\n",
       "  <tbody>\n",
       "    <tr>\n",
       "      <th>4</th>\n",
       "      <td>2009-10-24</td>\n",
       "      <td>205.178.184.153</td>\n",
       "      <td>/robots.txt</td>\n",
       "      <td>X</td>\n",
       "    </tr>\n",
       "  </tbody>\n",
       "</table>\n",
       "</div>"
      ],
      "text/plain": [
       "        Dates             c_ip        steam crowler\n",
       "4  2009-10-24  205.178.184.153  /robots.txt       X"
      ]
     },
     "execution_count": 112,
     "metadata": {},
     "output_type": "execute_result"
    }
   ],
   "source": [
    "robots"
   ]
  },
  {
   "cell_type": "code",
   "execution_count": 113,
   "metadata": {},
   "outputs": [],
   "source": [
    "\n",
    "def check(x): \n",
    "    arob = []\n",
    "    for robot in robots.values:\n",
    "        arob.append(robot[1] )\n",
    "    if x in arob: return \"X\"\n",
    "    return \"\"\n",
    "\n",
    "df['crowler'] = df['c_ip'].map(lambda x: check( x ))"
   ]
  },
  {
   "cell_type": "code",
   "execution_count": null,
   "metadata": {},
   "outputs": [],
   "source": []
  },
  {
   "cell_type": "code",
   "execution_count": 114,
   "metadata": {},
   "outputs": [
    {
     "data": {
      "text/html": [
       "<div>\n",
       "<style>\n",
       "    .dataframe thead tr:only-child th {\n",
       "        text-align: right;\n",
       "    }\n",
       "\n",
       "    .dataframe thead th {\n",
       "        text-align: left;\n",
       "    }\n",
       "\n",
       "    .dataframe tbody tr th {\n",
       "        vertical-align: top;\n",
       "    }\n",
       "</style>\n",
       "<table border=\"1\" class=\"dataframe\">\n",
       "  <thead>\n",
       "    <tr style=\"text-align: right;\">\n",
       "      <th></th>\n",
       "      <th>Dates</th>\n",
       "      <th>c_ip</th>\n",
       "      <th>steam</th>\n",
       "      <th>crowler</th>\n",
       "    </tr>\n",
       "  </thead>\n",
       "  <tbody>\n",
       "    <tr>\n",
       "      <th>0</th>\n",
       "      <td>2009-10-24</td>\n",
       "      <td>205.178.184.153</td>\n",
       "      <td>/</td>\n",
       "      <td>X</td>\n",
       "    </tr>\n",
       "    <tr>\n",
       "      <th>1</th>\n",
       "      <td>2009-10-24</td>\n",
       "      <td>205.178.184.153</td>\n",
       "      <td>/</td>\n",
       "      <td>X</td>\n",
       "    </tr>\n",
       "    <tr>\n",
       "      <th>2</th>\n",
       "      <td>2009-10-24</td>\n",
       "      <td>205.178.184.153</td>\n",
       "      <td>/Darwin/Home.aspx</td>\n",
       "      <td>X</td>\n",
       "    </tr>\n",
       "    <tr>\n",
       "      <th>3</th>\n",
       "      <td>2009-10-24</td>\n",
       "      <td>205.178.184.153</td>\n",
       "      <td>/</td>\n",
       "      <td>X</td>\n",
       "    </tr>\n",
       "    <tr>\n",
       "      <th>4</th>\n",
       "      <td>2009-10-24</td>\n",
       "      <td>205.178.184.153</td>\n",
       "      <td>/robots.txt</td>\n",
       "      <td>X</td>\n",
       "    </tr>\n",
       "    <tr>\n",
       "      <th>5</th>\n",
       "      <td>2009-10-24</td>\n",
       "      <td>91.212.127.100</td>\n",
       "      <td>/abc.php</td>\n",
       "      <td></td>\n",
       "    </tr>\n",
       "    <tr>\n",
       "      <th>6</th>\n",
       "      <td>2009-10-24</td>\n",
       "      <td>204.244.11.121</td>\n",
       "      <td>/phpMyAdmin/scripts/setup.php</td>\n",
       "      <td></td>\n",
       "    </tr>\n",
       "    <tr>\n",
       "      <th>7</th>\n",
       "      <td>2009-10-24</td>\n",
       "      <td>204.244.11.121</td>\n",
       "      <td>/phpmyadmin/scripts/setup.php</td>\n",
       "      <td></td>\n",
       "    </tr>\n",
       "    <tr>\n",
       "      <th>8</th>\n",
       "      <td>2009-10-24</td>\n",
       "      <td>204.244.11.121</td>\n",
       "      <td>/pma/scripts/setup.php</td>\n",
       "      <td></td>\n",
       "    </tr>\n",
       "    <tr>\n",
       "      <th>9</th>\n",
       "      <td>2009-10-24</td>\n",
       "      <td>204.244.11.121</td>\n",
       "      <td>/mysql/scripts/setup.php</td>\n",
       "      <td></td>\n",
       "    </tr>\n",
       "    <tr>\n",
       "      <th>10</th>\n",
       "      <td>2009-10-24</td>\n",
       "      <td>204.244.11.121</td>\n",
       "      <td>/admin/scripts/setup.php</td>\n",
       "      <td></td>\n",
       "    </tr>\n",
       "  </tbody>\n",
       "</table>\n",
       "</div>"
      ],
      "text/plain": [
       "         Dates             c_ip                          steam crowler\n",
       "0   2009-10-24  205.178.184.153                              /       X\n",
       "1   2009-10-24  205.178.184.153                              /       X\n",
       "2   2009-10-24  205.178.184.153              /Darwin/Home.aspx       X\n",
       "3   2009-10-24  205.178.184.153                              /       X\n",
       "4   2009-10-24  205.178.184.153                    /robots.txt       X\n",
       "5   2009-10-24   91.212.127.100                       /abc.php        \n",
       "6   2009-10-24   204.244.11.121  /phpMyAdmin/scripts/setup.php        \n",
       "7   2009-10-24   204.244.11.121  /phpmyadmin/scripts/setup.php        \n",
       "8   2009-10-24   204.244.11.121         /pma/scripts/setup.php        \n",
       "9   2009-10-24   204.244.11.121       /mysql/scripts/setup.php        \n",
       "10  2009-10-24   204.244.11.121       /admin/scripts/setup.php        "
      ]
     },
     "execution_count": 114,
     "metadata": {},
     "output_type": "execute_result"
    }
   ],
   "source": [
    "df"
   ]
  },
  {
   "cell_type": "code",
   "execution_count": null,
   "metadata": {},
   "outputs": [],
   "source": []
  },
  {
   "cell_type": "markdown",
   "metadata": {
    "heading_collapsed": true
   },
   "source": [
    "# . concatenate pandas"
   ]
  },
  {
   "cell_type": "code",
   "execution_count": 45,
   "metadata": {
    "hidden": true
   },
   "outputs": [],
   "source": [
    "dfs = pd.read_excel(path + 'test.xlsx', sheet_name='sheet1', index=False)"
   ]
  },
  {
   "cell_type": "code",
   "execution_count": 47,
   "metadata": {
    "hidden": true
   },
   "outputs": [],
   "source": [
    "frames = [df, dfs]\n"
   ]
  },
  {
   "cell_type": "code",
   "execution_count": 48,
   "metadata": {
    "hidden": true
   },
   "outputs": [],
   "source": [
    "result = pd.concat(frames)\n"
   ]
  },
  {
   "cell_type": "code",
   "execution_count": 50,
   "metadata": {
    "hidden": true
   },
   "outputs": [],
   "source": [
    "# result"
   ]
  },
  {
   "cell_type": "code",
   "execution_count": null,
   "metadata": {
    "hidden": true
   },
   "outputs": [],
   "source": []
  },
  {
   "cell_type": "code",
   "execution_count": null,
   "metadata": {
    "hidden": true
   },
   "outputs": [],
   "source": [
    "if cs_uri_stem = '/robots.txt'"
   ]
  },
  {
   "cell_type": "code",
   "execution_count": null,
   "metadata": {
    "hidden": true
   },
   "outputs": [],
   "source": []
  },
  {
   "cell_type": "code",
   "execution_count": 4,
   "metadata": {
    "hidden": true
   },
   "outputs": [],
   "source": [
    "# 091130 - mixed file with errors"
   ]
  },
  {
   "cell_type": "code",
   "execution_count": null,
   "metadata": {
    "hidden": true
   },
   "outputs": [],
   "source": []
  },
  {
   "cell_type": "markdown",
   "metadata": {},
   "source": [
    "# .Others"
   ]
  },
  {
   "cell_type": "code",
   "execution_count": null,
   "metadata": {},
   "outputs": [],
   "source": []
  },
  {
   "cell_type": "code",
   "execution_count": null,
   "metadata": {},
   "outputs": [],
   "source": []
  }
 ],
 "metadata": {
  "kernelspec": {
   "display_name": "Python 3",
   "language": "python",
   "name": "python3"
  },
  "language_info": {
   "codemirror_mode": {
    "name": "ipython",
    "version": 3
   },
   "file_extension": ".py",
   "mimetype": "text/x-python",
   "name": "python",
   "nbconvert_exporter": "python",
   "pygments_lexer": "ipython3",
   "version": "3.6.3"
  }
 },
 "nbformat": 4,
 "nbformat_minor": 2
}
