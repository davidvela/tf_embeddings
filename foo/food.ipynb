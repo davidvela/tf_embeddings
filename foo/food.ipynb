{
 "cells": [
  {
   "cell_type": "markdown",
   "metadata": {},
   "source": [
    "# Embedding Food"
   ]
  },
  {
   "cell_type": "code",
   "execution_count": 5,
   "metadata": {},
   "outputs": [],
   "source": [
    "# IMPORTS \n",
    "import pandas as pd \n",
    "import numpy as np \n",
    "import tensorflow as tf \n",
    "import matplotlib.pyplot as plt\n",
    "import time \n",
    "import json\n"
   ]
  },
  {
   "cell_type": "code",
   "execution_count": 6,
   "metadata": {},
   "outputs": [],
   "source": [
    "PDAT = \"../../_data_tmp/food/\"\n",
    "PMOD = \"../../models/\""
   ]
  },
  {
   "cell_type": "code",
   "execution_count": null,
   "metadata": {},
   "outputs": [],
   "source": []
  },
  {
   "cell_type": "code",
   "execution_count": null,
   "metadata": {},
   "outputs": [],
   "source": []
  },
  {
   "cell_type": "markdown",
   "metadata": {
    "heading_collapsed": true
   },
   "source": [
    "# epicurious-recipes-with-rating-and-nutrition"
   ]
  },
  {
   "cell_type": "markdown",
   "metadata": {
    "hidden": true
   },
   "source": [
    "## Functions"
   ]
  },
  {
   "cell_type": "code",
   "execution_count": 7,
   "metadata": {
    "hidden": true
   },
   "outputs": [],
   "source": [
    "def print_form(ds): \n",
    "    print(*ds.iloc[ds.nonzero()].index) # in 1 line\n",
    "    print(*ds.iloc[ds.nonzero()])       # in 1 line\n",
    "    comp = len(ds.iloc[ds.nonzero()])\n",
    "    print(\"N. of components: {}\".format(comp  ))\n",
    "\n",
    "def print_form2(ds): \n",
    "    comp = len(ds.iloc[ds.nonzero()])\n",
    "    print(\"N. of components: {}\".format(comp  ))\n",
    "    els = ds.iloc[ds.nonzero()]\n",
    "    \n",
    "    for i in range(len(els)): \n",
    "        print(\"{0:20} - {1:10}\".format(els.index[i], els[i]))\n",
    "    \n",
    "# print_form2(dst.iloc[3])"
   ]
  },
  {
   "cell_type": "code",
   "execution_count": 8,
   "metadata": {
    "hidden": true
   },
   "outputs": [],
   "source": [
    "ifil = \"epi_r.csv\"\n",
    "\n",
    "BATCH_SIZE = 1000\n",
    "USER_NUM = 20052 \n",
    "ITEM_NUM = 674\n",
    "DIM = 15\n",
    "EPOCH_MAX = 100\n",
    "DEVICE = \"/cpu:0\""
   ]
  },
  {
   "cell_type": "code",
   "execution_count": 9,
   "metadata": {
    "hidden": true
   },
   "outputs": [],
   "source": [
    "dst  =  pd.read_csv( tf.gfile.Open(PDAT + ifil), sep=None, skipinitialspace=True,  engine=\"python\")\n",
    "dst = dst.fillna(0)"
   ]
  },
  {
   "cell_type": "code",
   "execution_count": 10,
   "metadata": {
    "hidden": true
   },
   "outputs": [],
   "source": [
    "# dst = dst.drop(2)\n",
    "# dst.describe()\n",
    "dst.head()\n",
    "dst_n = dst[\"title\"]\n",
    "dst_x = dst.iloc[:, 6:]"
   ]
  },
  {
   "cell_type": "code",
   "execution_count": 11,
   "metadata": {
    "hidden": true
   },
   "outputs": [
    {
     "name": "stdout",
     "output_type": "stream",
     "text": [
      "20052\n"
     ]
    },
    {
     "data": {
      "text/plain": [
       "0                Lentil, Apple, and Turkey Wrap \n",
       "1    Boudin Blanc Terrine with Red Onion Confit \n",
       "2                  Potato and Fennel Soup Hodge \n",
       "3               Mahi-Mahi in Tomato Olive Sauce \n",
       "4                      Spinach Noodle Casserole \n",
       "Name: title, dtype: object"
      ]
     },
     "execution_count": 11,
     "metadata": {},
     "output_type": "execute_result"
    }
   ],
   "source": [
    "print(len(dst_n))\n",
    "dst_n.head()"
   ]
  },
  {
   "cell_type": "code",
   "execution_count": 12,
   "metadata": {
    "hidden": true
   },
   "outputs": [
    {
     "name": "stdout",
     "output_type": "stream",
     "text": [
      "columns = 680\n"
     ]
    },
    {
     "data": {
      "text/plain": [
       "Index(['title', 'rating', 'calories', 'protein', 'fat', 'sodium', '#cakeweek',\n",
       "       '#wasteless', '22-minute meals', '3-ingredient recipes',\n",
       "       ...\n",
       "       'yellow squash', 'yogurt', 'yonkers', 'yuca', 'zucchini', 'cookbooks',\n",
       "       'leftovers', 'snack', 'snack week', 'turkey'],\n",
       "      dtype='object', length=680)"
      ]
     },
     "execution_count": 12,
     "metadata": {},
     "output_type": "execute_result"
    }
   ],
   "source": [
    "print(\"columns = {}\".format(len(dst.columns)))\n",
    "dst.columns"
   ]
  },
  {
   "cell_type": "code",
   "execution_count": 13,
   "metadata": {
    "hidden": true
   },
   "outputs": [
    {
     "name": "stdout",
     "output_type": "stream",
     "text": [
      "N. of components: 19\n",
      "title                - Mahi-Mahi in Tomato Olive Sauce \n",
      "rating               -        5.0\n",
      "bon appétit          -        1.0\n",
      "dairy free           -        1.0\n",
      "dinner               -        1.0\n",
      "fish                 -        1.0\n",
      "healthy              -        1.0\n",
      "high fiber           -        1.0\n",
      "kosher               -        1.0\n",
      "low cal              -        1.0\n",
      "low fat              -        1.0\n",
      "olive                -        1.0\n",
      "peanut free          -        1.0\n",
      "pescatarian          -        1.0\n",
      "sauté                -        1.0\n",
      "simmer               -        1.0\n",
      "soy free             -        1.0\n",
      "tomato               -        1.0\n",
      "tree nut free        -        1.0\n"
     ]
    }
   ],
   "source": [
    "print_form2(dst.iloc[3])\n",
    "#dst_x.head()\n",
    "# dst_x\n"
   ]
  },
  {
   "cell_type": "code",
   "execution_count": 29,
   "metadata": {
    "hidden": true
   },
   "outputs": [],
   "source": [
    "# dst_n.head()"
   ]
  },
  {
   "cell_type": "code",
   "execution_count": null,
   "metadata": {
    "hidden": true
   },
   "outputs": [],
   "source": []
  },
  {
   "cell_type": "markdown",
   "metadata": {},
   "source": [
    "# whats_cooking_yummy --  JSON \n",
    "to do: \n",
    "* make a list of ingredients\n",
    "* list of possible cuisines \n",
    "* try to predict the cuisine based on ingredients \n",
    "* try to recommend similar recipes ... (id)"
   ]
  },
  {
   "cell_type": "code",
   "execution_count": 49,
   "metadata": {},
   "outputs": [],
   "source": [
    "ifiljj = \"train.json\"\n",
    "json_str=open(PDAT + ifiljj).read();  \n",
    "json_data = json.loads(json_str)"
   ]
  },
  {
   "cell_type": "code",
   "execution_count": 60,
   "metadata": {},
   "outputs": [
    {
     "name": "stdout",
     "output_type": "stream",
     "text": [
      "39774\n"
     ]
    },
    {
     "data": {
      "text/plain": [
       "{'cuisine': 'southern_us',\n",
       " 'id': 25693,\n",
       " 'ingredients': ['plain flour',\n",
       "  'ground pepper',\n",
       "  'salt',\n",
       "  'tomatoes',\n",
       "  'ground black pepper',\n",
       "  'thyme',\n",
       "  'eggs',\n",
       "  'green tomatoes',\n",
       "  'yellow corn meal',\n",
       "  'milk',\n",
       "  'vegetable oil']}"
      ]
     },
     "execution_count": 60,
     "metadata": {},
     "output_type": "execute_result"
    }
   ],
   "source": [
    "print(len(json_data))\n",
    "type(json_data)\n",
    "json_data[1]\n",
    "# json_data[1][\"cuisine\"]"
   ]
  },
  {
   "cell_type": "code",
   "execution_count": 57,
   "metadata": {},
   "outputs": [],
   "source": [
    "#make a list of ingredients \n",
    "\n",
    "\n"
   ]
  },
  {
   "cell_type": "code",
   "execution_count": null,
   "metadata": {},
   "outputs": [],
   "source": []
  },
  {
   "cell_type": "code",
   "execution_count": null,
   "metadata": {},
   "outputs": [],
   "source": []
  },
  {
   "cell_type": "code",
   "execution_count": null,
   "metadata": {},
   "outputs": [],
   "source": []
  },
  {
   "cell_type": "markdown",
   "metadata": {},
   "source": [
    "# Food images"
   ]
  },
  {
   "cell_type": "code",
   "execution_count": 19,
   "metadata": {},
   "outputs": [],
   "source": [
    "# !tar xzvf food-101.tar.gz\n",
    "# tar.extractall(path=\"/new/dir/location\")\n",
    "\n",
    "import tarfile\n",
    "# fname = PDAT + \"food-101.tar.gz\"\n",
    "# tar = tarfile.open(fname, \"r:gz\")\n",
    "# tar.extractall(path=PDAT)\n",
    "# tar.close()\n"
   ]
  },
  {
   "cell_type": "code",
   "execution_count": null,
   "metadata": {},
   "outputs": [],
   "source": []
  },
  {
   "cell_type": "markdown",
   "metadata": {},
   "source": [
    "# Network -\n",
    "\n",
    "* Predict the rating based on fat \n",
    "* Predict the rating based on fat and ingredients"
   ]
  },
  {
   "cell_type": "code",
   "execution_count": null,
   "metadata": {},
   "outputs": [],
   "source": []
  },
  {
   "cell_type": "code",
   "execution_count": null,
   "metadata": {},
   "outputs": [],
   "source": []
  },
  {
   "cell_type": "code",
   "execution_count": null,
   "metadata": {},
   "outputs": [],
   "source": []
  },
  {
   "cell_type": "markdown",
   "metadata": {},
   "source": [
    "# train"
   ]
  },
  {
   "cell_type": "code",
   "execution_count": null,
   "metadata": {},
   "outputs": [],
   "source": []
  },
  {
   "cell_type": "code",
   "execution_count": null,
   "metadata": {},
   "outputs": [],
   "source": []
  },
  {
   "cell_type": "code",
   "execution_count": null,
   "metadata": {},
   "outputs": [],
   "source": []
  }
 ],
 "metadata": {
  "kernelspec": {
   "display_name": "Python 3",
   "language": "python",
   "name": "python3"
  },
  "language_info": {
   "codemirror_mode": {
    "name": "ipython",
    "version": 3
   },
   "file_extension": ".py",
   "mimetype": "text/x-python",
   "name": "python",
   "nbconvert_exporter": "python",
   "pygments_lexer": "ipython3",
   "version": "3.5.2"
  }
 },
 "nbformat": 4,
 "nbformat_minor": 2
}
